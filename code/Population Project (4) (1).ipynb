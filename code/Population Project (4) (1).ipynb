{
 "cells": [
  {
   "cell_type": "code",
   "execution_count": 1,
   "metadata": {},
   "outputs": [],
   "source": [
    "# Configure Jupyter so figures appear in the notebook\n",
    "%matplotlib inline\n",
    "\n",
    "# Configure Jupyter to display the assigned value after an assignment\n",
    "%config InteractiveShell.ast_node_interactivity='last_expr_or_assign'\n",
    "\n",
    "# import functions from the modsim.py module\n",
    "from modsim import *\n",
    "\n",
    "from pandas import *"
   ]
  },
  {
   "cell_type": "markdown",
   "metadata": {},
   "source": [
    "# How would the United States population be effected if Ellis Island had never opened?"
   ]
  },
  {
   "cell_type": "code",
   "execution_count": 2,
   "metadata": {},
   "outputs": [
    {
     "data": {
      "text/html": [
       "<div>\n",
       "<style scoped>\n",
       "    .dataframe tbody tr th:only-of-type {\n",
       "        vertical-align: middle;\n",
       "    }\n",
       "\n",
       "    .dataframe tbody tr th {\n",
       "        vertical-align: top;\n",
       "    }\n",
       "\n",
       "    .dataframe thead th {\n",
       "        text-align: right;\n",
       "    }\n",
       "</style>\n",
       "<table border=\"1\" class=\"dataframe\">\n",
       "  <thead>\n",
       "    <tr style=\"text-align: right;\">\n",
       "      <th></th>\n",
       "      <th>values</th>\n",
       "    </tr>\n",
       "  </thead>\n",
       "  <tbody>\n",
       "    <tr>\n",
       "      <th>population</th>\n",
       "      <td>6.550000e+07</td>\n",
       "    </tr>\n",
       "    <tr>\n",
       "      <th>birthRates</th>\n",
       "      <td>2.940000e-02</td>\n",
       "    </tr>\n",
       "    <tr>\n",
       "      <th>deathRates</th>\n",
       "      <td>2.330000e-02</td>\n",
       "    </tr>\n",
       "  </tbody>\n",
       "</table>\n",
       "</div>"
      ],
      "text/plain": [
       "population    6.550000e+07\n",
       "birthRates    2.940000e-02\n",
       "deathRates    2.330000e-02\n",
       "dtype: float64"
      ]
     },
     "execution_count": 2,
     "metadata": {},
     "output_type": "execute_result"
    }
   ],
   "source": [
    "### Only initial difference is that Fake has NO immigration\n",
    "UnitedStatesReal = System(population = 65500000, birthRates = .0294, deathRates = .0233) #U.S. Population with Ellis Island Open\n",
    "UnitedStatesFake = System(population = 65500000, birthRates = .0294, deathRates = .0233) #U.S. Population if Ellis Island Didn't Exist\n",
    "\n",
    "alpha = .0259            #birth rate 1950-1924\n",
    "beta = .0192            #birth rate 1975-1950\n",
    "gamma = .0145            #birth rate 2000-1975\n",
    "delta = .0133            #birth rate 2018-2000\n",
    "\n",
    "epsilon = 0.0174       #death rate 1950-1924\n",
    "zeta = 0.00915          #death rate 1975-1950\n",
    "eta = .00865           #death rate 2000-1975\n",
    "theta = .00845           #death rate 2018-2000\n",
    "\n",
    "resultsWith = TimeSeries() #Yearly Population with Immigration\n",
    "resultsWithOut = TimeSeries() #Yearly Population without Immigration\n",
    "\n",
    "data = pd.read_csv('PopProj.csv',header = 0, index_col=0, dtype = {'Year':int, 'Num.Aliens':int})\n",
    "yearRange = linrange(1892,2019) #the year Ellis Island closed to now\n",
    "UnitedStatesFake"
   ]
  },
  {
   "cell_type": "markdown",
   "metadata": {},
   "source": [
    "While creating this model there are several decisions we made:\n",
    "- The Timeline\n",
    "    - We decided that our model should cover the amount of time that Ellis Island was open up to the present. That way we could properly observe the effect that the lack of Ellis Island's existance would have on us today.\n",
    "- The Demographics\n",
    "    - Originally, we planned on separating our data and excluding only certain demographics from passage through Ellis Island. However, we quickly realized that it would be very difficult and unneccesary to search for data involving each specific demographic, so we just looked at the extremes - if Ellis Island existed and if it didn't\n",
    "- What to assume\n",
    "    - Birth and Death Rates are a major assumption that we made. We decided to assume that birth rates and death rates stayed constant over approximately 25 year periods. We made this assumption because we felt it was excessive to import the data for each year.\n",
    "    - Immigration was also not included in the model for years after 1924, which is the year Ellis Island closed. This is because we determined that excluding the immigration numbers would not change the overall difference in populations, due to the immigration numbers being the same for both population. Also, the data is difficult to find. \n",
    "    "
   ]
  },
  {
   "cell_type": "code",
   "execution_count": 3,
   "metadata": {},
   "outputs": [],
   "source": [
    "#Model increase over the span of ELlis Island\n",
    "def update_func1(system, immigration, x): #inputs are the System changing and whether or not immigration is occuring\n",
    "    popDecrease = system.population*system.deathRates #The yearly net decrease in population\n",
    "    if(immigration):\n",
    "        popIncrease = (system.population*system.birthRates) + data.values[x] #The yearly net increase in population with immigration\n",
    "    else:\n",
    "        popIncrease = system.population*system.birthRates #The yearly net increase in population without immigration\n",
    "    system.population = popIncrease+system.population-popDecrease #New Population after incorporating New Growth\n",
    "#Model increase after Ellis Island Closed (no change in immigration)\n",
    "def update_func2(system, x): #birth rates and death rates based on year range\n",
    "    if(x <= 1950 and x > 1924 ): \n",
    "        system.birthRates = alpha\n",
    "        system.deathRates = epsilon\n",
    "    elif(x <= 1975 and x > 1950 ):\n",
    "        system.birthRates = beta\n",
    "        system.deathRates = zeta\n",
    "    elif(x <= 2000 and x > 1975 ):\n",
    "        system.birthRates = gamma\n",
    "        system.deathRates = eta\n",
    "    elif(x <= 2018 and x > 2000 ):\n",
    "        system.birthRates = delta\n",
    "        system.deathRates = theta\n",
    "    popDecrease = system.population*system.deathRates #The yearly net decrease in population\n",
    "    popIncrease = system.population*system.birthRates #The yearly net increase in population with immigration\n",
    "    system.population = popIncrease+system.population-popDecrease #New Population after incorporating New Growth"
   ]
  },
  {
   "cell_type": "code",
   "execution_count": 4,
   "metadata": {},
   "outputs": [],
   "source": [
    "def run_simulation(yearRange, system1, system2): #Updates and stores annual population\n",
    "    for x in range(len(yearRange)):\n",
    "        if(x <= 32): #Updates the Systems for each year Ellis Island was open\n",
    "            update_func1(system1, True, x) \n",
    "            resultsWith[x] = system1.population\n",
    "            update_func1(system2, False, x)\n",
    "            resultsWithOut[x] = system2.population\n",
    "        else: #Updates the Systems for each year Ellis Island was closed\n",
    "            update_func2(system1, x)\n",
    "            resultsWith[x] = system1.population\n",
    "            update_func2(system2, x)\n",
    "            resultsWithOut[x] = system2.population"
   ]
  },
  {
   "cell_type": "code",
   "execution_count": 5,
   "metadata": {},
   "outputs": [],
   "source": [
    "def plot_results(resultsWith, resultsWithOut, title): # plots the results of both models\n",
    "    plot(yearRange, resultsWith, 'b', label='U.S. Population With Ellis Island') # plots given Ellis Island Existed\n",
    "    plot(yearRange, resultsWithOut, 'r', label='U.S. Population If Ellis Island Never Existed') # plots given Ellis Island didn't exist\n",
    "    \n",
    "    decorate(xlabel='Year', \n",
    "             ylabel='World population (billions)',\n",
    "             title=title)"
   ]
  },
  {
   "cell_type": "code",
   "execution_count": 6,
   "metadata": {},
   "outputs": [],
   "source": [
    "run_simulation(yearRange, UnitedStatesReal, UnitedStatesFake)"
   ]
  },
  {
   "cell_type": "code",
   "execution_count": 7,
   "metadata": {},
   "outputs": [
    {
     "data": {
      "text/html": [
       "<div>\n",
       "<style scoped>\n",
       "    .dataframe tbody tr th:only-of-type {\n",
       "        vertical-align: middle;\n",
       "    }\n",
       "\n",
       "    .dataframe tbody tr th {\n",
       "        vertical-align: top;\n",
       "    }\n",
       "\n",
       "    .dataframe thead th {\n",
       "        text-align: right;\n",
       "    }\n",
       "</style>\n",
       "<table border=\"1\" class=\"dataframe\">\n",
       "  <thead>\n",
       "    <tr style=\"text-align: right;\">\n",
       "      <th></th>\n",
       "      <th>values</th>\n",
       "    </tr>\n",
       "  </thead>\n",
       "  <tbody>\n",
       "    <tr>\n",
       "      <th>population</th>\n",
       "      <td>1.697405e+08</td>\n",
       "    </tr>\n",
       "    <tr>\n",
       "      <th>birthRates</th>\n",
       "      <td>2.940000e-02</td>\n",
       "    </tr>\n",
       "    <tr>\n",
       "      <th>deathRates</th>\n",
       "      <td>2.330000e-02</td>\n",
       "    </tr>\n",
       "  </tbody>\n",
       "</table>\n",
       "</div>"
      ],
      "text/plain": [
       "population    1.697405e+08\n",
       "birthRates    2.940000e-02\n",
       "deathRates    2.330000e-02\n",
       "dtype: float64"
      ]
     },
     "execution_count": 7,
     "metadata": {},
     "output_type": "execute_result"
    }
   ],
   "source": [
    "UnitedStatesReal"
   ]
  },
  {
   "cell_type": "code",
   "execution_count": 8,
   "metadata": {},
   "outputs": [
    {
     "data": {
      "text/html": [
       "<div>\n",
       "<style scoped>\n",
       "    .dataframe tbody tr th:only-of-type {\n",
       "        vertical-align: middle;\n",
       "    }\n",
       "\n",
       "    .dataframe tbody tr th {\n",
       "        vertical-align: top;\n",
       "    }\n",
       "\n",
       "    .dataframe thead th {\n",
       "        text-align: right;\n",
       "    }\n",
       "</style>\n",
       "<table border=\"1\" class=\"dataframe\">\n",
       "  <thead>\n",
       "    <tr style=\"text-align: right;\">\n",
       "      <th></th>\n",
       "      <th>values</th>\n",
       "    </tr>\n",
       "  </thead>\n",
       "  <tbody>\n",
       "    <tr>\n",
       "      <th>population</th>\n",
       "      <td>1.417971e+08</td>\n",
       "    </tr>\n",
       "    <tr>\n",
       "      <th>birthRates</th>\n",
       "      <td>2.940000e-02</td>\n",
       "    </tr>\n",
       "    <tr>\n",
       "      <th>deathRates</th>\n",
       "      <td>2.330000e-02</td>\n",
       "    </tr>\n",
       "  </tbody>\n",
       "</table>\n",
       "</div>"
      ],
      "text/plain": [
       "population    1.417971e+08\n",
       "birthRates    2.940000e-02\n",
       "deathRates    2.330000e-02\n",
       "dtype: float64"
      ]
     },
     "execution_count": 8,
     "metadata": {},
     "output_type": "execute_result"
    }
   ],
   "source": [
    "UnitedStatesFake"
   ]
  },
  {
   "cell_type": "code",
   "execution_count": 9,
   "metadata": {},
   "outputs": [
    {
     "data": {
      "image/png": "[encoded data removed]",
      "text/plain": [
       "<Figure size 432x288 with 1 Axes>"
      ]
     },
     "metadata": {
      "needs_background": "light"
     },
     "output_type": "display_data"
    }
   ],
   "source": [
    "plot_results(resultsWith, resultsWithOut, 'Comparison of U.S. Population with and without Ellis Island')"
   ]
  },
  {
   "cell_type": "markdown",
   "metadata": {},
   "source": [
    "Our model shows that if Ellis Island never existed, the U.S. population would be fairly less than what it is today. This would affect the U.S. in a myriad of different ways, from systemic changes, such as taxes, to social changes, such as U.S. culture and diversity. \n",
    "\n",
    "We see this in our model's output, because the output shows the difference in growth that occurs which is shown to lead to a difference in total population. And from this difference in population, one can assume certain changes that would occur to the United States, based on studies done on population size and how it affets a nation."
   ]
  }
 ],
 "metadata": {
  "kernelspec": {
   "display_name": "Python 3",
   "language": "python",
   "name": "python3"
  },
  "language_info": {
   "codemirror_mode": {
    "name": "ipython",
    "version": 3
   },
   "file_extension": ".py",
   "mimetype": "text/x-python",
   "name": "python",
   "nbconvert_exporter": "python",
   "pygments_lexer": "ipython3",
   "version": "3.6.6"
  }
 },
 "nbformat": 4,
 "nbformat_minor": 2
}
