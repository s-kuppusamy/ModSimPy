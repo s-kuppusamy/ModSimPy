{
 "cells": [
  {
   "cell_type": "markdown",
   "metadata": {},
   "source": [
    "# Project 2 Draft 8\n",
    "\n",
    "11/4/2018"
   ]
  },
  {
   "cell_type": "code",
   "execution_count": 1,
   "metadata": {},
   "outputs": [],
   "source": [
    "# Configure Jupyter so figures appear in the notebook\n",
    "%matplotlib inline\n",
    "\n",
    "# Configure Jupyter to display the assigned value after an assignment\n",
    "%config InteractiveShell.ast_node_interactivity='last_expr_or_assign'\n",
    "\n",
    "# import functions from the modsim.py module\n",
    "from modsim import *"
   ]
  },
  {
   "cell_type": "markdown",
   "metadata": {},
   "source": [
    "# Question:\n",
    "Our question asked, if given a budget, what is the most effective combination of mosquito nets and vaccines that an organization could purchase in order to minimize the number of people infected with malaria. Malaria vaccines are being developed and tested, but have not yet been deployed on a large scale. Our model would help charities and other organizations determine how much money it is worth investing into vaccines by comparing them to the already existing mosquito nets. \n"
   ]
  },
  {
   "cell_type": "markdown",
   "metadata": {},
   "source": [
    "# Model:\n",
    "This model is based off a paper that models the interaction of Malaria with the gene for Sickle Cell Disease. When an individual is homozygous for Sickle Cell Disease (SS), they have the disorder, which is a strong genetic disadvantage. Individuals who are heterozygous for Sickle Cell Disease (AS) do not have the disorder, but they do have an increased resistance to malaria. We thought it was very interesting how the population of people with the AS genotype impacted the dynamics of Malaria, so we decided to base our model off of this particular paper. \n",
    "\n",
    "The main state variables involved in the model are the number of susceptible people for both genotypes, the number of infected people for both genotypes, and the number of mosquitoes for both genotypes. There are several system variables that affect the model and presenting each here would be rather repetitive and unprecedented. Thus, the meaning of each system variable is presented with further clarity and detail in the comments of the code.\n",
    "\n",
    "In order to answer our question, we researched the cost and effectiveness of vaccines and mosquito nets. We found that mosquito nets are 5 dollars and 50 percent effective and that vaccines are 20 dollars and 36 percent effective. We calculated the overall effectiveness per 1000 dollars by multiplying the cost and effectiveness together, then multiplying the product by 1000 dollars, and then dividing that product by the human population of the model (40,000,000 people). Then, we added some equations into our update function that modified the infection rate and mosquito biting rate using the effectiveness per 1000 dollars in thousands of dollars. The modified values for infection rate and mosquito biting rate are then plugged into the equations from the paper which calculate the change in infected and susceptible populations over time. "
   ]
  },
  {
   "cell_type": "markdown",
   "metadata": {},
   "source": [
    "### Make System Function\n",
    "This function creates a system with all the values used in the update function. It also initializes the state. The comments below go into more detail about the meaning of each value. "
   ]
  },
  {
   "cell_type": "code",
   "execution_count": 10,
   "metadata": {},
   "outputs": [],
   "source": [
    "def make_system(t0, t_end, dt, \n",
    "                a, \n",
    "                rN, \n",
    "                Nh, \n",
    "                θ1, \n",
    "                θ2, \n",
    "                rV, \n",
    "                φ1, \n",
    "                φ2, \n",
    "                λh1, \n",
    "                λh2, \n",
    "                λm1, \n",
    "                λm2, \n",
    "                δm, \n",
    "                c, \n",
    "                μ1, \n",
    "                μ2, \n",
    "                ν, \n",
    "                α1, \n",
    "                α2, \n",
    "                γ1, \n",
    "                γ2, \n",
    "                bNh,\n",
    "                w, \n",
    "                P1, \n",
    "                P2):\n",
    "    \n",
    "    \n",
    "    init = State(S1=19.2e6, S2=14.4e6, I1=4.8e6, I2=1.6e6, M=0.8)\n",
    "\n",
    "    \"\"\"\n",
    "    S1 = number of uninfected individuals with AA genotype\n",
    "    S2 = number of uninfected individuals with AS genotype\n",
    "    I1 = number of infected individuals with AA genotype\n",
    "    I2 = number of infected individuals with AS genotype\n",
    "    M = Proportion of mosquitoes with plasmodium parasite\n",
    "    \"\"\"\n",
    "\n",
    "    system = System(t0=0, t_end=200, dt = 1, init = init, \n",
    "#state variable\n",
    "                      a = a, \n",
    "#Biting rate per human per mosquito.\n",
    "                      rN = rN, \n",
    "#Decrease in biting rate per $1,000 spent on mosquito nets\n",
    "                      Nh = Nh, \n",
    "#=S1 + S2 + I1 + I2 ; Total human population\n",
    "                      θ1 = θ1, \n",
    "#Probability that an individual acquires plasmodium per bite type AA\n",
    "                      θ2 = θ2, \n",
    "#Probability that an individual acquires plasmodium per bite type AS\n",
    "                      rV = rV, \n",
    "#Decrease in probability of infection per $1,000 spent on vaccines\n",
    "                      φ1 = φ1, \n",
    "#Probability mosquito gets infected from biting infected individual type AA\n",
    "                      φ2 = φ2, \n",
    "#Probability mosquito gets infected from biting infected individual type AS\n",
    "                      λh1 = λh1, \n",
    "# = aθ1(Im/Nh), Im = 1e15 x 0.8, Human infection rate AA\n",
    "                      λh2 = λh2, \n",
    "# = aθ2(Im/Nh), Im = 1e15 x 0.8, Human infenction rate AS\n",
    "                      λm1 = λm1, \n",
    "# = aφ1(I1+I2 +εR)/Nh, Mosquito infection rate from AA\n",
    "                      λm2 = λm2, \n",
    "# = aφ1(I1+I2 +εR)/Nh, Mosquito infection rate from AS\n",
    "                      δm = δm, \n",
    "#Mortality rate of mosquitoes\n",
    "                      c = c, \n",
    "#Ratio of mosquitoes to human.\n",
    "                      μ1 = μ1, \n",
    "#Human natural mortality rate\n",
    "                      μ2 = μ2, \n",
    "#Human natural mortality rate + mortality rate due to sickle cell complications\n",
    "                      ν = ν, \n",
    "#Extra mortality due to sickle cell gene complications\n",
    "                      α1 = α1, \n",
    "#Malaria-induced mortality rate for genotype AA\n",
    "                      α2 = α2, \n",
    "#Malaria-induced mortality rate for genotype AS\n",
    "                      γ1 = γ1, \n",
    "#Recovery rate from malaria for genotype AA\n",
    "                      γ2 = γ2, \n",
    "#Recovery rate from malaria for genotype AS\n",
    "                      bNh = bNh,\n",
    "#Per capita birth rate of humans b(1 − Nh/K), b = 0.00004, K = 10000 (per year)\n",
    "                      w = w, \n",
    "#Fraction of AS individuals w- 0.1, w = 0.7, which one to use? w = 0.4\n",
    "                      P1 = P1, \n",
    "#Fraction of the total birth of individuals of genotype AA = 0.64\n",
    "                      P2 = P2\n",
    "#Fraction of the total birth of individuals of genotype AS = 0.32\n",
    "                   )\n",
    "    \n",
    "    return system"
   ]
  },
  {
   "cell_type": "markdown",
   "metadata": {},
   "source": [
    "### Plot Results\n",
    "This function takes the results of the simulation and plots them on a graph and labels the axes. "
   ]
  },
  {
   "cell_type": "code",
   "execution_count": 11,
   "metadata": {},
   "outputs": [],
   "source": [
    "def plot_results(results):\n",
    "    \"\"\"Plot the results for number of infected people with AA and AS Genotype.\n",
    "    \"\"\"\n",
    "    plot(results.I1, '', label='AA Genotype')\n",
    "    plot(results.I2, '', label='AS Genotype')\n",
    "    decorate(xlabel='Time (days)',\n",
    "             ylabel='Infected Population')"
   ]
  },
  {
   "cell_type": "markdown",
   "metadata": {},
   "source": [
    "### Update Function\n",
    "This function contains the equations from the model as well as the equations that we added. The equations that we added calculate new values for θ (infection rate per bite) and a (biting rate) based off the money spent on vaccines and nets respectively. The values rV and rN represent the effectiveness of vaccines, calculated by multiplying the number of nets or vaccines that $1000 will buy, multiplied by the effectiveness of each of the interventions, all divided by the number of humans in the simulation (Nh = 40,000,000).  "
   ]
  },
  {
   "cell_type": "code",
   "execution_count": 12,
   "metadata": {},
   "outputs": [],
   "source": [
    "#updates the state variable and returns with its new values\n",
    "def update_func(state, t, system, money_nets, money_vaccines): \n",
    "    s1, s2, i1, i2, m = state\n",
    "    unpack(system)\n",
    "    \n",
    "    θ1a = θ1 * (1 - (rV * money_vaccines)) \n",
    "#calculates new chance likelihood of infection per bite (type AA) with vaccine\n",
    "    θ2a = θ2 * (1 - (rV * money_vaccines))\n",
    "#calculates new chance likelihood of infection per bite (type AS) with vaccine\n",
    "    aa = a * (1 - (rN * money_nets))\n",
    "#calculates new biting rate per human per mosquito with mosquito nets\n",
    "    \n",
    "    #functions from paper\n",
    "    Nh = s1 + s2 + i1 + i2 #total population\n",
    "    I_tot = i1 + i2 # sum of infected\n",
    "    #These are the rates of infection for humans and mosquitoes\n",
    "    λh1 = aa*θ1a*(m/Nh)\n",
    "    λh2 = aa*θ2a*(m/Nh)\n",
    "    λm1 = aa*φ1*(I_tot/Nh)\n",
    "    λm2 = aa*φ2*(I_tot/Nh) \n",
    "    \n",
    "#rates of change for susceptible & infected of both gene types and for mosquitoes\n",
    "    dS1_dt = (P1*bNh*Nh - μ1*s1 - λh1*s1 + γ1*i1)*dt\n",
    "    dS2_dt = (P2*bNh*Nh - μ2*s2 - λh2*s2 + γ2*i2)*dt\n",
    "    dI1_dt = (λh1*s1 - (μ1 + γ1 + α1)*i1)*dt\n",
    "    dI2_dt = (λh2*s2 - (μ2 + γ2 + α2)*i2)*dt\n",
    "    dm_dt  = ((1 - m) * (λm1 + λm2) - δm)*dt\n",
    "    \n",
    "    #Adds change and stores new result to the state variable\n",
    "    s1 += dS1_dt\n",
    "    s2 += dS2_dt\n",
    "    i1 += dI1_dt\n",
    "    i2 += dI2_dt\n",
    "    m  += dm_dt \n",
    "    \n",
    "    return State(S1=s1, S2=s2, I1=i1, I2=i2, M=m)"
   ]
  },
  {
   "cell_type": "markdown",
   "metadata": {},
   "source": [
    "### Run Simulation Function \n",
    "The run simulation functions calls upon the update function, the system, the money spent on nets, and the money spent on vaccines. The function uses that information to return a TimeFrame of state values over time.  "
   ]
  },
  {
   "cell_type": "code",
   "execution_count": 13,
   "metadata": {},
   "outputs": [],
   "source": [
    "def run_simulation(system, update_func, money_nets, money_vaccines):\n",
    "    unpack(system)\n",
    "    \n",
    "    frame = TimeFrame(columns=init.index) #stores state variable in a timeframe\n",
    "    frame.row[t0] = init\n",
    "    \n",
    "    for t in linrange(t0, t_end/dt):\n",
    "        frame.row[t+1] = update_func(frame.row[t], t, system, \n",
    "                                     money_nets, money_vaccines) \n",
    "        #stores all values of the state as it is being updated\n",
    "    \n",
    "    return frame"
   ]
  },
  {
   "cell_type": "code",
   "execution_count": 14,
   "metadata": {},
   "outputs": [
    {
     "data": {
      "text/plain": [
       "array([     0.,  50000., 100000.])"
      ]
     },
     "execution_count": 14,
     "metadata": {},
     "output_type": "execute_result"
    }
   ],
   "source": [
    "#creates an array that tests different values of money_nets\n",
    "money_nets_array = linspace(0, 100000, 3) "
   ]
  },
  {
   "cell_type": "markdown",
   "metadata": {},
   "source": [
    "### Original function from paper\n",
    "This graph shows the model based off of the paper where the money spent on vaccines and nets is equal to zero. The graph depicted here closely resembles the graph in the paper. \n"
   ]
  },
  {
   "cell_type": "code",
   "execution_count": 7,
   "metadata": {},
   "outputs": [
    {
     "data": {
      "image/png": "[encoded data removed]",
      "text/plain": [
       "<Figure size 432x288 with 1 Axes>"
      ]
     },
     "metadata": {
      "needs_background": "light"
     },
     "output_type": "display_data"
    }
   ],
   "source": [
    "#makes a system object\n",
    "system = make_system(0, 200, 1, #t_0, t_end, dt\n",
    "                     1, #a\n",
    "                     2.5e-6, #rN   6\n",
    "                     40000000, #Nh\n",
    "                     0.05, #θ1\n",
    "                     0.06, #θ2\n",
    "                     4.5e-7, #rV  7\n",
    "                     0.05, #φ1\n",
    "                     0.09, #φ1\n",
    "                     10e6, #λh1\n",
    "                     1.2e6,#λh2\n",
    "                     0.08, #λm1\n",
    "                     0.144, #λm2\n",
    "                     0.07, #δm\n",
    "                     4, #c\n",
    "                     0.00003, #μ1\n",
    "                     0.00005, #μ2\n",
    "                     0.00002, #v\n",
    "                     0.0001, #α1\n",
    "                     0.00005, #α2\n",
    "                     0.05, #γ1\n",
    "                     0.09, #γ2\n",
    "                     0.033, #bNh\n",
    "                     0.4, #w\n",
    "                     0.64, #P1\n",
    "                     0.32) #P2\n",
    "#runs simulation and plots the graph \n",
    "# condition where $0 spent on nets and $0 spent on vaccines\n",
    "results = run_simulation(system, update_func, 0, 0) \n",
    "plot_results(results)\n",
    "    "
   ]
  },
  {
   "cell_type": "markdown",
   "metadata": {},
   "source": [
    "### Function With Money Spent\n",
    "For this function, we set the money spent on nets and vaccines to 10,000,000,000 dollars. As you can see, the model does not show much of a difference from the one in which no money was spent. This was a shortcoming of our model. We go into more detail about this difficulty in the QMRI section. "
   ]
  },
  {
   "cell_type": "code",
   "execution_count": 9,
   "metadata": {},
   "outputs": [
    {
     "data": {
      "image/png": "[encoded data removed]",
      "text/plain": [
       "<Figure size 432x288 with 1 Axes>"
      ]
     },
     "metadata": {
      "needs_background": "light"
     },
     "output_type": "display_data"
    }
   ],
   "source": [
    "# makes a system object\n",
    "system = make_system(0, 200, 1, #t_0, t_end, dt\n",
    "                     1, #a\n",
    "                     2.5e-6, #rN   6\n",
    "                     40000000, #Nh\n",
    "                     0.05, #θ1\n",
    "                     0.06, #θ2\n",
    "                     4.5e-7, #rV  7\n",
    "                     0.05, #φ1\n",
    "                     0.09, #φ1\n",
    "                     10e6, #λh1\n",
    "                     1.2e3,#λh2\n",
    "                     0.08, #λm1\n",
    "                     0.144, #λm2\n",
    "                     0.07, #δm\n",
    "                     4, #c\n",
    "                     0.00003, #μ1\n",
    "                     0.00005, #μ2\n",
    "                     0.00002, #v\n",
    "                     0.0001, #α1\n",
    "                     0.00005, #α2\n",
    "                     0.05, #γ1\n",
    "                     0.09, #γ2\n",
    "                     0.033, #bNh\n",
    "                     0.4, #w\n",
    "                     0.64, #P1\n",
    "                     0.32) #P2\n",
    "#runs simulation and plots the graph \n",
    "# condition where $100000000 spent on nets and $100000000 spent on vaccines\n",
    "results = run_simulation(system, update_func, 10000000, 100000000) \n",
    "plot_results(results)\n",
    "    "
   ]
  },
  {
   "cell_type": "markdown",
   "metadata": {},
   "source": [
    "http://scholar.sun.ac.za/handle/10019.1/17989 (source of equations-you can download the full text by searching the web for \"Modelling Malaria and Sickle Cell Gene. by Juliet Nakakawa Thesis\" and it is currently the first result)\n",
    "\n",
    "https://www.againstmalaria.com/dollarspernet.aspx (source of cost of malaria nets)\n",
    "\n",
    "Note: We missed the documentation for our source for malaria net effectiveness because there were a lot of resources we consulted to find a good approximation as it varied quite a bit from source to source. In general, the consensus was that it reduced infection/biting rate by at least 50% however.\n",
    "\n",
    "https://www.nejm.org/doi/full/10.1056/NEJMoa1515257 (source of efficacy of Malaria Vaccine)\n",
    "\n",
    "https://gh.bmj.com/content/2/1/e000090 (Malaria Vaccine cost source)\n",
    "https://journals.plos.org/plosmedicine/article?id=10.1371%2Fjournal.pmed.1001994 (Malaria Vaccine cost source)\n",
    "\n"
   ]
  }
 ],
 "metadata": {
  "kernelspec": {
   "display_name": "Python 3",
   "language": "python",
   "name": "python3"
  },
  "language_info": {
   "codemirror_mode": {
    "name": "ipython",
    "version": 3
   },
   "file_extension": ".py",
   "mimetype": "text/x-python",
   "name": "python",
   "nbconvert_exporter": "python",
   "pygments_lexer": "ipython3",
   "version": "3.6.6"
  }
 },
 "nbformat": 4,
 "nbformat_minor": 2
}
